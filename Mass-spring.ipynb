{
 "cells": [
  {
   "cell_type": "code",
   "execution_count": 1,
   "id": "5d0cd015",
   "metadata": {},
   "outputs": [],
   "source": [
    "from sympy import *\n",
    "from sympy.abc import *\n"
   ]
  },
  {
   "cell_type": "code",
   "execution_count": 29,
   "id": "d2d4484d",
   "metadata": {},
   "outputs": [],
   "source": [
    "x=Function(\"x\")(t)\n",
    "f=Function(\"f\")(t)\n",
    "K=Rational(1,2)*m*diff(x,t)**2\n",
    "V=Rational(1,2)*k*x**2-f*x\n",
    "L=K-V"
   ]
  },
  {
   "cell_type": "code",
   "execution_count": 30,
   "id": "d043de14",
   "metadata": {},
   "outputs": [
    {
     "data": {
      "text/latex": [
       "$\\displaystyle - k x{\\left(t \\right)} - m \\frac{d^{2}}{d t^{2}} x{\\left(t \\right)} + f{\\left(t \\right)} = 0$"
      ],
      "text/plain": [
       "Eq(-k*x(t) - m*Derivative(x(t), (t, 2)) + f(t), 0)"
      ]
     },
     "execution_count": 30,
     "metadata": {},
     "output_type": "execute_result"
    }
   ],
   "source": [
    "calculus.euler_equations(L,x,t)[0]"
   ]
  },
  {
   "cell_type": "code",
   "execution_count": 31,
   "id": "da0229fd",
   "metadata": {},
   "outputs": [
    {
     "name": "stdout",
     "output_type": "stream",
     "text": [
      "- k x{\\left(t \\right)} - m \\frac{d^{2}}{d t^{2}} x{\\left(t \\right)} + f{\\left(t \\right)} = 0\n"
     ]
    }
   ],
   "source": [
    "print_latex(Eq(diff(L,x)-diff(L,diff(x,t),t),0))"
   ]
  },
  {
   "cell_type": "code",
   "execution_count": 32,
   "id": "16e81ec8",
   "metadata": {},
   "outputs": [
    {
     "data": {
      "text/latex": [
       "$\\displaystyle g m + m \\frac{d^{2}}{d t^{2}} x{\\left(t \\right)}$"
      ],
      "text/plain": [
       "g*m + m*Derivative(x(t), (t, 2))"
      ]
     },
     "execution_count": 32,
     "metadata": {},
     "output_type": "execute_result"
    }
   ],
   "source": [
    "from sympy.physics.vector import dynamicsymbols\n",
    "m = symbols('m', real = True)\n",
    "g = symbols('g', real = True)\n",
    "x   = dynamicsymbols('x')\n",
    "xd  = dynamicsymbols('x', 1)\n",
    "\n",
    "kin_energy = Rational(1/2) * m * xd ** 2\n",
    "pot_energy = m * g * x\n",
    "\n",
    "L = kin_energy - pot_energy\n",
    "f = diff(diff(L, xd), 't') - diff(L, x)\n",
    "f"
   ]
  },
  {
   "cell_type": "code",
   "execution_count": 37,
   "id": "510da848",
   "metadata": {},
   "outputs": [
    {
     "ename": "NameError",
     "evalue": "name 'lagr' is not defined",
     "output_type": "error",
     "traceback": [
      "\u001b[0;31m---------------------------------------------------------------------------\u001b[0m",
      "\u001b[0;31mNameError\u001b[0m                                 Traceback (most recent call last)",
      "\u001b[0;32m<ipython-input-37-f6e5bc09a11d>\u001b[0m in \u001b[0;36m<module>\u001b[0;34m\u001b[0m\n\u001b[0;32m----> 1\u001b[0;31m \u001b[0mlagr\u001b[0m\u001b[0;34m\u001b[0m\u001b[0;34m\u001b[0m\u001b[0m\n\u001b[0m",
      "\u001b[0;31mNameError\u001b[0m: name 'lagr' is not defined"
     ]
    }
   ],
   "source": [
    "lagr"
   ]
  }
 ],
 "metadata": {
  "kernelspec": {
   "display_name": "Python 3",
   "language": "python",
   "name": "python3"
  },
  "language_info": {
   "codemirror_mode": {
    "name": "ipython",
    "version": 3
   },
   "file_extension": ".py",
   "mimetype": "text/x-python",
   "name": "python",
   "nbconvert_exporter": "python",
   "pygments_lexer": "ipython3",
   "version": "3.8.11"
  },
  "varInspector": {
   "cols": {
    "lenName": 16,
    "lenType": 16,
    "lenVar": 40
   },
   "kernels_config": {
    "python": {
     "delete_cmd_postfix": "",
     "delete_cmd_prefix": "del ",
     "library": "var_list.py",
     "varRefreshCmd": "print(var_dic_list())"
    },
    "r": {
     "delete_cmd_postfix": ") ",
     "delete_cmd_prefix": "rm(",
     "library": "var_list.r",
     "varRefreshCmd": "cat(var_dic_list()) "
    }
   },
   "types_to_exclude": [
    "module",
    "function",
    "builtin_function_or_method",
    "instance",
    "_Feature"
   ],
   "window_display": false
  }
 },
 "nbformat": 4,
 "nbformat_minor": 5
}
